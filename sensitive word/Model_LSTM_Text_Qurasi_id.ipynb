{
  "nbformat": 4,
  "nbformat_minor": 0,
  "metadata": {
    "colab": {
      "provenance": [],
      "gpuType": "T4"
    },
    "kernelspec": {
      "name": "python3",
      "display_name": "Python 3"
    },
    "language_info": {
      "name": "python"
    },
    "accelerator": "GPU"
  },
  "cells": [
    {
      "cell_type": "code",
      "source": [
        "from google.colab import drive\n",
        "drive.mount('/content/drive')"
      ],
      "metadata": {
        "colab": {
          "base_uri": "https://localhost:8080/"
        },
        "id": "mYevU6aiItrn",
        "outputId": "dd0a7982-3f50-4d19-f710-4e99408cc5c0"
      },
      "execution_count": 1,
      "outputs": [
        {
          "output_type": "stream",
          "name": "stdout",
          "text": [
            "Drive already mounted at /content/drive; to attempt to forcibly remount, call drive.mount(\"/content/drive\", force_remount=True).\n"
          ]
        }
      ]
    },
    {
      "cell_type": "code",
      "execution_count": 2,
      "metadata": {
        "id": "onl91noQH12k"
      },
      "outputs": [],
      "source": [
        "import torch\n",
        "import torch.nn.functional as F\n",
        "import torchtext\n",
        "import time\n",
        "import random\n",
        "import pandas as pd"
      ]
    },
    {
      "cell_type": "code",
      "source": [
        "RANDOM_SEED = 123\n",
        "torch.manual_seed(RANDOM_SEED)\n",
        "\n",
        "VOCABULARY_SIZE = 20000\n",
        "LEARNING_RATE = 0.005\n",
        "BATCH_SIZE = 128\n",
        "NUM_EPOCHS = 10\n",
        "DEVICE = torch.device('cuda:2' if torch.cuda.is_available() else 'cpu')\n",
        "\n",
        "EMBEDDING_DIM = 128\n",
        "HIDDEN_DIM = 256\n",
        "NUM_CLASSES = 2"
      ],
      "metadata": {
        "id": "eeCb6MzMH3Cm"
      },
      "execution_count": 23,
      "outputs": []
    },
    {
      "cell_type": "code",
      "source": [
        "df = pd.read_csv('/content/drive/MyDrive/Qurasi.id/Dataset/data_berlabel.csv')\n",
        "df = df.drop(columns='Unnamed: 0')"
      ],
      "metadata": {
        "id": "N1Ecqgh2IaPP"
      },
      "execution_count": 4,
      "outputs": []
    },
    {
      "cell_type": "code",
      "source": [
        "df = df.dropna()"
      ],
      "metadata": {
        "id": "B8TMnHWMJhMW"
      },
      "execution_count": 5,
      "outputs": []
    },
    {
      "cell_type": "code",
      "source": [
        "df.to_csv('data_berlabel.csv', index=False)"
      ],
      "metadata": {
        "id": "GCwTvG2rMmKA"
      },
      "execution_count": 6,
      "outputs": []
    },
    {
      "cell_type": "code",
      "source": [
        "from torchtext.data import Field, LabelField\n",
        "\n",
        "# Defining the feature processing\n",
        "TEXT = Field()  # default splits on whitespace\n",
        "\n",
        "# Defining the label processing\n",
        "LABEL = LabelField(dtype=torch.long)\n"
      ],
      "metadata": {
        "id": "ox7QRAbdJmyD"
      },
      "execution_count": 7,
      "outputs": []
    },
    {
      "cell_type": "code",
      "source": [
        "fields = [('TEXT_COLUMN_NAME', TEXT), ('LABEL_COLUMN_NAME', LABEL)]\n",
        "\n",
        "dataset = torchtext.data.TabularDataset(\n",
        "    path='/content/data_berlabel.csv', format='csv',\n",
        "    skip_header=True, fields=fields)"
      ],
      "metadata": {
        "id": "-TBGKfPhKF0P"
      },
      "execution_count": 8,
      "outputs": []
    },
    {
      "cell_type": "code",
      "source": [
        "train_data, test_data = dataset.split(\n",
        "    split_ratio=[0.8, 0.2],\n",
        "    random_state=random.seed(RANDOM_SEED))\n",
        "\n",
        "print(f'Num Train: {len(train_data)}')\n",
        "print(f'Num Test: {len(test_data)}')"
      ],
      "metadata": {
        "colab": {
          "base_uri": "https://localhost:8080/"
        },
        "id": "8eRrVl1eKsAd",
        "outputId": "0c8e5eea-c566-4ee9-c717-4df33119f55c"
      },
      "execution_count": 9,
      "outputs": [
        {
          "output_type": "stream",
          "name": "stdout",
          "text": [
            "Num Train: 10481\n",
            "Num Test: 2620\n"
          ]
        }
      ]
    },
    {
      "cell_type": "code",
      "source": [
        "train_data, valid_data = train_data.split(\n",
        "    split_ratio=[0.85, 0.15],\n",
        "    random_state=random.seed(RANDOM_SEED))\n",
        "\n",
        "print(f'Num Train: {len(train_data)}')\n",
        "print(f'Num Validation: {len(valid_data)}')"
      ],
      "metadata": {
        "colab": {
          "base_uri": "https://localhost:8080/"
        },
        "id": "lAUAukkpMG7s",
        "outputId": "b2f28ae6-3791-4091-9e5c-4986f33c05f1"
      },
      "execution_count": 10,
      "outputs": [
        {
          "output_type": "stream",
          "name": "stdout",
          "text": [
            "Num Train: 8909\n",
            "Num Validation: 1572\n"
          ]
        }
      ]
    },
    {
      "cell_type": "code",
      "source": [
        "print(vars(train_data.examples[0]))"
      ],
      "metadata": {
        "colab": {
          "base_uri": "https://localhost:8080/"
        },
        "id": "IKztBWD6MPJ5",
        "outputId": "4d6c7a01-b8a5-413d-9887-4ff7bebd5711"
      },
      "execution_count": 11,
      "outputs": [
        {
          "output_type": "stream",
          "name": "stdout",
          "text": [
            "{'TEXT_COLUMN_NAME': ['prabowo', 'mesti', 'tanggung', 'bangun', 'sekolah', 'bakar'], 'LABEL_COLUMN_NAME': '0'}\n"
          ]
        }
      ]
    },
    {
      "cell_type": "code",
      "source": [
        "TEXT.build_vocab(train_data, max_size=VOCABULARY_SIZE)\n",
        "LABEL.build_vocab(train_data)\n",
        "\n",
        "print(f'Vocabulary size: {len(TEXT.vocab)}')\n",
        "print(f'Number of classes: {len(LABEL.vocab)}')"
      ],
      "metadata": {
        "colab": {
          "base_uri": "https://localhost:8080/"
        },
        "id": "3vgPSX3xMSa3",
        "outputId": "0155ca48-73fe-4dad-9698-13b718de417d"
      },
      "execution_count": 12,
      "outputs": [
        {
          "output_type": "stream",
          "name": "stdout",
          "text": [
            "Vocabulary size: 13000\n",
            "Number of classes: 2\n"
          ]
        }
      ]
    },
    {
      "cell_type": "code",
      "source": [
        "print(TEXT.vocab.freqs.most_common(20))"
      ],
      "metadata": {
        "colab": {
          "base_uri": "https://localhost:8080/"
        },
        "id": "7sCfOMaxMWXP",
        "outputId": "6534813e-6574-4635-f7ca-cfc5fa273766"
      },
      "execution_count": 13,
      "outputs": [
        {
          "output_type": "stream",
          "name": "stdout",
          "text": [
            "[('yang', 2012), ('orang', 769), ('jokowi', 566), ('presiden', 560), ('islam', 509), ('agama', 492), ('indonesia', 458), ('pilih', 339), ('cebong', 310), ('cina', 287), ('asing', 266), ('gubernur', 254), ('rakyat', 245), ('kepala', 237), ('rezim', 233), ('kristen', 232), ('ahok', 228), ('negara', 226), ('komunis', 225), ('daerah', 223)]\n"
          ]
        }
      ]
    },
    {
      "cell_type": "code",
      "source": [
        "print(TEXT.vocab.itos[:10]) # itos = integer-to-string"
      ],
      "metadata": {
        "colab": {
          "base_uri": "https://localhost:8080/"
        },
        "id": "8SGG7WNjND2C",
        "outputId": "5ab37d89-973f-4a17-cfd2-9932f92d424f"
      },
      "execution_count": 14,
      "outputs": [
        {
          "output_type": "stream",
          "name": "stdout",
          "text": [
            "['<unk>', '<pad>', 'yang', 'orang', 'jokowi', 'presiden', 'islam', 'agama', 'indonesia', 'pilih']\n"
          ]
        }
      ]
    },
    {
      "cell_type": "code",
      "source": [
        "print(TEXT.vocab.stoi['the']) # stoi = string-to-integer"
      ],
      "metadata": {
        "colab": {
          "base_uri": "https://localhost:8080/"
        },
        "id": "gGtqcflANItL",
        "outputId": "b3a7e835-194a-4f70-bb38-581f2bea7f19"
      },
      "execution_count": 15,
      "outputs": [
        {
          "output_type": "stream",
          "name": "stdout",
          "text": [
            "258\n"
          ]
        }
      ]
    },
    {
      "cell_type": "code",
      "source": [
        "print(LABEL.vocab.stoi)"
      ],
      "metadata": {
        "colab": {
          "base_uri": "https://localhost:8080/"
        },
        "id": "-D5hqr_mNLlg",
        "outputId": "2722adaf-554a-4c23-92ac-0f406f23bd6c"
      },
      "execution_count": 16,
      "outputs": [
        {
          "output_type": "stream",
          "name": "stdout",
          "text": [
            "defaultdict(None, {'0': 0, '1': 1})\n"
          ]
        }
      ]
    },
    {
      "cell_type": "code",
      "source": [
        "train_loader, valid_loader, test_loader = \\\n",
        "    torchtext.data.BucketIterator.splits(\n",
        "        (train_data, valid_data, test_data),\n",
        "         batch_size=BATCH_SIZE,\n",
        "         sort_within_batch=False,\n",
        "         sort_key=lambda x: len(x.TEXT_COLUMN_NAME),\n",
        "         device=DEVICE\n",
        "    )"
      ],
      "metadata": {
        "id": "FSQSaDIQNPms"
      },
      "execution_count": 17,
      "outputs": []
    },
    {
      "cell_type": "code",
      "source": [
        "print('Train')\n",
        "for batch in train_loader:\n",
        "    print(f'Text matrix size: {batch.TEXT_COLUMN_NAME.size()}')\n",
        "    print(f'Target vector size: {batch.LABEL_COLUMN_NAME.size()}')\n",
        "    break\n",
        "\n",
        "print('\\nValid:')\n",
        "for batch in valid_loader:\n",
        "    print(f'Text matrix size: {batch.TEXT_COLUMN_NAME.size()}')\n",
        "    print(f'Target vector size: {batch.LABEL_COLUMN_NAME.size()}')\n",
        "    break\n",
        "\n",
        "print('\\nTest:')\n",
        "for batch in test_loader:\n",
        "    print(f'Text matrix size: {batch.TEXT_COLUMN_NAME.size()}')\n",
        "    print(f'Target vector size: {batch.LABEL_COLUMN_NAME.size()}')\n",
        "    break"
      ],
      "metadata": {
        "colab": {
          "base_uri": "https://localhost:8080/"
        },
        "id": "v0X0VRArNVN-",
        "outputId": "da15ee0b-3cab-4c27-ba3b-6dadd93461cb"
      },
      "execution_count": 18,
      "outputs": [
        {
          "output_type": "stream",
          "name": "stdout",
          "text": [
            "Train\n",
            "Text matrix size: torch.Size([26, 128])\n",
            "Target vector size: torch.Size([128])\n",
            "\n",
            "Valid:\n",
            "Text matrix size: torch.Size([2, 128])\n",
            "Target vector size: torch.Size([128])\n",
            "\n",
            "Test:\n",
            "Text matrix size: torch.Size([1, 128])\n",
            "Target vector size: torch.Size([128])\n"
          ]
        }
      ]
    },
    {
      "cell_type": "code",
      "source": [
        "class LSTM(torch.nn.Module):\n",
        "\n",
        "    def __init__(self, input_dim, embedding_dim, hidden_dim, output_dim):\n",
        "        super().__init__()\n",
        "\n",
        "        self.embedding = torch.nn.Embedding(input_dim, embedding_dim)\n",
        "        #self.rnn = torch.nn.RNN(embedding_dim,\n",
        "        #                        hidden_dim,\n",
        "        #                        nonlinearity='relu')\n",
        "        self.rnn = torch.nn.LSTM(embedding_dim,\n",
        "                                 hidden_dim)\n",
        "\n",
        "        self.fc = torch.nn.Linear(hidden_dim, output_dim)\n",
        "\n",
        "\n",
        "    def forward(self, text):\n",
        "        # text dim: [sentence length, batch size]\n",
        "\n",
        "        embedded = self.embedding(text)\n",
        "        # embedded dim: [sentence length, batch size, embedding dim]\n",
        "\n",
        "        output, (hidden, cell) = self.rnn(embedded)\n",
        "        # output dim: [sentence length, batch size, hidden dim]\n",
        "        # hidden dim: [1, batch size, hidden dim]\n",
        "\n",
        "        hidden.squeeze_(0)\n",
        "        # hidden dim: [batch size, hidden dim]\n",
        "\n",
        "        output = self.fc(hidden)\n",
        "        return output"
      ],
      "metadata": {
        "id": "ub0QGo5jNgc4"
      },
      "execution_count": 24,
      "outputs": []
    },
    {
      "cell_type": "code",
      "source": [
        "torch.manual_seed(RANDOM_SEED)\n",
        "model = LSTM(input_dim=len(TEXT.vocab),\n",
        "            embedding_dim=EMBEDDING_DIM,\n",
        "            hidden_dim=HIDDEN_DIM,\n",
        "            output_dim=NUM_CLASSES # could use 1 for binary classification\n",
        ")\n",
        "\n",
        "model = model.to(DEVICE)\n",
        "optimizer = torch.optim.Adam(model.parameters(), lr=0.005)"
      ],
      "metadata": {
        "id": "8vlBqaBDNodU"
      },
      "execution_count": 25,
      "outputs": []
    },
    {
      "cell_type": "code",
      "source": [
        "def compute_accuracy(model, data_loader, device):\n",
        "\n",
        "    with torch.no_grad():\n",
        "\n",
        "        correct_pred, num_examples = 0, 0\n",
        "\n",
        "        for i, (features, targets) in enumerate(data_loader):\n",
        "\n",
        "            features = features.to(device)\n",
        "            targets = targets.float().to(device)\n",
        "\n",
        "            logits = model(features)\n",
        "            _, predicted_labels = torch.max(logits, 1)\n",
        "\n",
        "            num_examples += targets.size(0)\n",
        "            correct_pred += (predicted_labels == targets).sum()\n",
        "    return correct_pred.float()/num_examples * 100"
      ],
      "metadata": {
        "id": "a8_fJquLNsAo"
      },
      "execution_count": 26,
      "outputs": []
    },
    {
      "cell_type": "code",
      "source": [
        "start_time = time.time()\n",
        "\n",
        "for epoch in range(NUM_EPOCHS):\n",
        "    model.train()\n",
        "    for batch_idx, batch_data in enumerate(train_loader):\n",
        "\n",
        "        text = batch_data.TEXT_COLUMN_NAME.to(DEVICE)\n",
        "        labels = batch_data.LABEL_COLUMN_NAME.to(DEVICE)\n",
        "\n",
        "        ### FORWARD AND BACK PROP\n",
        "        logits = model(text)\n",
        "        loss = F.cross_entropy(logits, labels)\n",
        "        optimizer.zero_grad()\n",
        "\n",
        "        loss.backward()\n",
        "\n",
        "        ### UPDATE MODEL PARAMETERS\n",
        "        optimizer.step()\n",
        "\n",
        "        ### LOGGING\n",
        "        if not batch_idx % 50:\n",
        "            print (f'Epoch: {epoch+1:03d}/{NUM_EPOCHS:03d} | '\n",
        "                   f'Batch {batch_idx:03d}/{len(train_loader):03d} | '\n",
        "                   f'Loss: {loss:.4f}')\n",
        "\n",
        "    with torch.set_grad_enabled(False):\n",
        "        print(f'training accuracy: '\n",
        "              f'{compute_accuracy(model, train_loader, DEVICE):.2f}%'\n",
        "              f'\\nvalid accuracy: '\n",
        "              f'{compute_accuracy(model, valid_loader, DEVICE):.2f}%')\n",
        "\n",
        "    print(f'Time elapsed: {(time.time() - start_time)/60:.2f} min')\n",
        "\n",
        "print(f'Total Training Time: {(time.time() - start_time)/60:.2f} min')\n",
        "print(f'Test accuracy: {compute_accuracy(model, test_loader, DEVICE):.2f}%')"
      ],
      "metadata": {
        "colab": {
          "base_uri": "https://localhost:8080/"
        },
        "id": "Je4Pa-YcNv0C",
        "outputId": "c92363e1-b07e-4dd3-b005-79f2d0d067c1"
      },
      "execution_count": 27,
      "outputs": [
        {
          "output_type": "stream",
          "name": "stdout",
          "text": [
            "Epoch: 001/010 | Batch 000/070 | Loss: 0.6886\n",
            "Epoch: 001/010 | Batch 050/070 | Loss: 0.4542\n",
            "training accuracy: 78.80%\n",
            "valid accuracy: 79.13%\n",
            "Time elapsed: 0.34 min\n",
            "Epoch: 002/010 | Batch 000/070 | Loss: 0.5491\n",
            "Epoch: 002/010 | Batch 050/070 | Loss: 0.5758\n",
            "training accuracy: 78.82%\n",
            "valid accuracy: 79.26%\n",
            "Time elapsed: 0.69 min\n",
            "Epoch: 003/010 | Batch 000/070 | Loss: 0.4985\n",
            "Epoch: 003/010 | Batch 050/070 | Loss: 0.6031\n",
            "training accuracy: 78.79%\n",
            "valid accuracy: 77.61%\n",
            "Time elapsed: 1.02 min\n",
            "Epoch: 004/010 | Batch 000/070 | Loss: 0.4514\n",
            "Epoch: 004/010 | Batch 050/070 | Loss: 0.2593\n",
            "training accuracy: 98.10%\n",
            "valid accuracy: 98.09%\n",
            "Time elapsed: 1.35 min\n",
            "Epoch: 005/010 | Batch 000/070 | Loss: 0.1236\n",
            "Epoch: 005/010 | Batch 050/070 | Loss: 0.0094\n",
            "training accuracy: 99.32%\n",
            "valid accuracy: 98.54%\n",
            "Time elapsed: 1.68 min\n",
            "Epoch: 006/010 | Batch 000/070 | Loss: 0.0298\n",
            "Epoch: 006/010 | Batch 050/070 | Loss: 0.0270\n",
            "training accuracy: 99.71%\n",
            "valid accuracy: 99.24%\n",
            "Time elapsed: 2.06 min\n",
            "Epoch: 007/010 | Batch 000/070 | Loss: 0.0017\n",
            "Epoch: 007/010 | Batch 050/070 | Loss: 0.0021\n",
            "training accuracy: 99.90%\n",
            "valid accuracy: 99.30%\n",
            "Time elapsed: 2.46 min\n",
            "Epoch: 008/010 | Batch 000/070 | Loss: 0.0037\n",
            "Epoch: 008/010 | Batch 050/070 | Loss: 0.0053\n",
            "training accuracy: 99.98%\n",
            "valid accuracy: 99.17%\n",
            "Time elapsed: 2.79 min\n",
            "Epoch: 009/010 | Batch 000/070 | Loss: 0.0009\n",
            "Epoch: 009/010 | Batch 050/070 | Loss: 0.0002\n",
            "training accuracy: 99.99%\n",
            "valid accuracy: 99.17%\n",
            "Time elapsed: 3.19 min\n",
            "Epoch: 010/010 | Batch 000/070 | Loss: 0.0001\n",
            "Epoch: 010/010 | Batch 050/070 | Loss: 0.0001\n",
            "training accuracy: 100.00%\n",
            "valid accuracy: 99.11%\n",
            "Time elapsed: 3.57 min\n",
            "Total Training Time: 3.57 min\n",
            "Test accuracy: 99.20%\n"
          ]
        }
      ]
    },
    {
      "cell_type": "code",
      "source": [
        "import nltk\n",
        "nltk.download('punkt')\n",
        "from nltk import word_tokenize"
      ],
      "metadata": {
        "colab": {
          "base_uri": "https://localhost:8080/"
        },
        "id": "K9AwXJsWQxmy",
        "outputId": "b0ac57d2-b6ef-4d9d-874b-ce626b1453d2"
      },
      "execution_count": 31,
      "outputs": [
        {
          "output_type": "stream",
          "name": "stderr",
          "text": [
            "[nltk_data] Downloading package punkt to /root/nltk_data...\n",
            "[nltk_data]   Unzipping tokenizers/punkt.zip.\n"
          ]
        }
      ]
    },
    {
      "cell_type": "code",
      "source": [
        "def predict_sentiment(model, sentence):\n",
        "    model.eval()\n",
        "    tokenized = word_tokenize(sentence)\n",
        "    indexed = [TEXT.vocab.stoi[t] for t in tokenized]\n",
        "    tensor = torch.LongTensor(indexed).to(DEVICE)\n",
        "    tensor = tensor.unsqueeze(1)\n",
        "    prediction = torch.nn.functional.softmax(model(tensor), dim=1)\n",
        "    predicted_label = torch.argmax(prediction, dim=1).item()\n",
        "    return predicted_label\n",
        "\n",
        "print('Predicted label:')\n",
        "predicted_label = predict_sentiment(model, \"mukalu goblog tolol idiot\")\n",
        "print(predicted_label)\n"
      ],
      "metadata": {
        "colab": {
          "base_uri": "https://localhost:8080/"
        },
        "id": "xSDBAfj-QE1m",
        "outputId": "f1d24b16-ebeb-4024-a1dd-c0ca27ab0e1e"
      },
      "execution_count": 48,
      "outputs": [
        {
          "output_type": "stream",
          "name": "stdout",
          "text": [
            "Predicted label:\n",
            "1\n"
          ]
        }
      ]
    },
    {
      "cell_type": "code",
      "source": [
        "predicted_label = predict_sentiment(model, \"dasar kamu baik hati dan tidak sombong\")\n",
        "print(predicted_label)"
      ],
      "metadata": {
        "colab": {
          "base_uri": "https://localhost:8080/"
        },
        "id": "rwcu4Ej9R0j7",
        "outputId": "83240ff3-114c-459d-c082-c050e33258b9"
      },
      "execution_count": 49,
      "outputs": [
        {
          "output_type": "stream",
          "name": "stdout",
          "text": [
            "0\n"
          ]
        }
      ]
    },
    {
      "cell_type": "code",
      "source": [
        "torch.save(model.state_dict(), 'modeltext_qurasi.pth')"
      ],
      "metadata": {
        "id": "5lpQRpdNSQia"
      },
      "execution_count": 47,
      "outputs": []
    }
  ]
}